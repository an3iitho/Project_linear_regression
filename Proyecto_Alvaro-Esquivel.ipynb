{
 "cells": [
  {
   "cell_type": "markdown",
   "metadata": {},
   "source": [
    "# Proyecto final\n",
    "\n",
    "### Álvaro Andrés Esquivel Gómez  -  11002822\n",
    "\n",
    "\n"
   ]
  },
  {
   "cell_type": "markdown",
   "metadata": {},
   "source": [
    "y = f(x) = mx +b\n",
    "\n",
    "y = la variable dependiente\n",
    "x = variable independiente\n",
    "m = pendiente de la recta(parámetro del modelo)\n",
    "b = intercepto(parámetro del modelo)\n",
    "\n",
    "Tanto “x” como “y” son parte del dataset usado , “m” y “b” son parámetros del modelo los cuales **buscamos estimar con los datos**, esto significa que se busca encontrar que valores de “m” y “b” producen una recta que describa de la mejor manera posible la relación entre los datos “x” y “y”.\n",
    "\n",
    "\n",
    "Por lo tanto en el proyecto:\n",
    "y = el precio de venta real de cierta casa\n",
    "x = cierta característica de cierta casa\n",
    "yhat = f(x) = precio estimado o predicción del precio de venta para una casa con\n",
    "cierta característica x\n",
    "m = pendiente de la recta que usamos para aproximar el precio de la casa yhat\n",
    "b = intercepto de la recta que usamos para aproximar el precio de la casa yhat"
   ]
  },
  {
   "cell_type": "code",
   "execution_count": 1,
   "metadata": {},
   "outputs": [],
   "source": [
    "import numpy as np\n",
    "import seaborn as sns\n",
    "import matplotlib.pyplot as plt\n",
    "import pandas as pd\n",
    "from sklearn.linear_model import LinearRegression"
   ]
  },
  {
   "cell_type": "code",
   "execution_count": 3,
   "metadata": {},
   "outputs": [
    {
     "name": "stdout",
     "output_type": "stream",
     "text": [
      "Rango del tensor: 2\n",
      "Forma o tamaño: (1460, 6)\n",
      "[[2.08500e+05 7.00000e+00 8.56000e+02 8.00000e+00 2.00300e+03 6.50000e+01]\n",
      " [1.81500e+05 6.00000e+00 1.26200e+03 6.00000e+00 1.97600e+03 8.00000e+01]\n",
      " [2.23500e+05 7.00000e+00 9.20000e+02 6.00000e+00 2.00100e+03 6.80000e+01]\n",
      " ...\n",
      " [2.66500e+05 7.00000e+00 1.18800e+03 9.00000e+00 1.94100e+03 6.60000e+01]\n",
      " [1.42125e+05 5.00000e+00 1.07800e+03 5.00000e+00 1.95000e+03 6.80000e+01]\n",
      " [1.47500e+05 5.00000e+00 1.25600e+03 6.00000e+00 1.96500e+03 7.50000e+01]]\n",
      "\n",
      "Cantidad de datos: 1460\n"
     ]
    }
   ],
   "source": [
    "#Importando los datos\n",
    "data = np.load(\"proyecto_training_data.npy\")\n",
    "\n",
    "print(\"Rango del tensor:\",data.ndim) \n",
    "print(\"Forma o tamaño:\",data.shape) \n",
    "print(data)\n",
    "len_data = len(data)\n",
    "print(\"\\nCantidad de datos:\",len_data)"
   ]
  },
  {
   "cell_type": "code",
   "execution_count": null,
   "metadata": {},
   "outputs": [],
   "source": [
    "#Asignacion de variables de entrenamiento y de validacion usando sclicing\n",
    "datos_entrenamiento = data[0:int(len_data*0.8)]\n",
    "\n",
    "\n",
    "datos_validacion = data[int(len_data*0.8):len_data]\n",
    "\n",
    "\n",
    "print(\"Datos entrenamiento: \", datos_entrenamiento, \"\\n\\nlen datos_entrenamiento: \", len(datos_entrenamiento),\n",
    "      \"\\n\\nDatos validacion: \", datos_validacion, \"\\n\\nlen datos_validacion: \", len(datos_validacion))\n",
    "\n",
    "print(\"Forma datos_entrenamiento:\",datos_entrenamiento.shape) \n",
    "print(\"Forma datos_entrenamiento:\",datos_validacion.shape) "
   ]
  }
 ],
 "metadata": {
  "kernelspec": {
   "display_name": "Python 3",
   "language": "python",
   "name": "python3"
  },
  "language_info": {
   "codemirror_mode": {
    "name": "ipython",
    "version": 3
   },
   "file_extension": ".py",
   "mimetype": "text/x-python",
   "name": "python",
   "nbconvert_exporter": "python",
   "pygments_lexer": "ipython3",
   "version": "3.7.4"
  }
 },
 "nbformat": 4,
 "nbformat_minor": 2
}
